{
  "nbformat": 4,
  "nbformat_minor": 0,
  "metadata": {
    "colab": {
      "name": "Stock_Price_Prediction.ipynb",
      "version": "0.3.2",
      "provenance": [],
      "include_colab_link": true
    },
    "kernelspec": {
      "name": "python3",
      "display_name": "Python 3"
    },
    "accelerator": "GPU"
  },
  "cells": [
    {
      "cell_type": "markdown",
      "metadata": {
        "id": "view-in-github",
        "colab_type": "text"
      },
      "source": [
        "<a href=\"https://colab.research.google.com/github/reemaratnani/Stocks_Regression/blob/master/Stock_Price_Prediction.ipynb\" target=\"_parent\"><img src=\"https://colab.research.google.com/assets/colab-badge.svg\" alt=\"Open In Colab\"/></a>"
      ]
    },
    {
      "cell_type": "code",
      "metadata": {
        "id": "lmCOOeTYCJfk",
        "colab_type": "code",
        "colab": {}
      },
      "source": [
        "from google.colab import drive\n",
        "drive.mount('/content/drive')"
      ],
      "execution_count": 0,
      "outputs": []
    },
    {
      "cell_type": "code",
      "metadata": {
        "id": "vkizc4UzKyeB",
        "colab_type": "code",
        "colab": {}
      },
      "source": [
        "# Import necessary packages\n",
        "import numpy as np\n",
        "import pandas as pd\n",
        "\n",
        "import matplotlib.pyplot as plt\n",
        "%matplotlib inline\n",
        "\n",
        "import sklearn\n",
        "from sklearn.linear_model import Ridge\n",
        "from sklearn import linear_model\n",
        "# from sklearn.ensemble import GradientBoostingRegressor\n",
        "# from sklearn.preprocessing import MinMaxScaler\n",
        "\n",
        "# import tensorflow as tf\n",
        "# import keras\n",
        "# from keras.models import Sequential\n",
        "# from keras.layers import Conv1D, LSTM, Dense\n",
        "# from keras.callbacks import LearningRateScheduler\n",
        "# from tensorflow.keras.losses import Huber\n",
        "# from keras.optimizers import SGD\n",
        "#Modeling Metrics\n",
        "from sklearn import metrics"
      ],
      "execution_count": 0,
      "outputs": []
    },
    {
      "cell_type": "code",
      "metadata": {
        "id": "-8IvJ4M_K77v",
        "colab_type": "code",
        "outputId": "a666caa7-ac17-4f1c-ccf8-8567e62f6725",
        "colab": {
          "base_uri": "https://localhost:8080/",
          "height": 197
        }
      },
      "source": [
        "path = '/content/drive/My Drive/data/AAPL.csv'\n",
        "stock_data = pd.read_csv(path)\n",
        "stock_data.head()"
      ],
      "execution_count": 0,
      "outputs": [
        {
          "output_type": "execute_result",
          "data": {
            "text/html": [
              "<div>\n",
              "<style scoped>\n",
              "    .dataframe tbody tr th:only-of-type {\n",
              "        vertical-align: middle;\n",
              "    }\n",
              "\n",
              "    .dataframe tbody tr th {\n",
              "        vertical-align: top;\n",
              "    }\n",
              "\n",
              "    .dataframe thead th {\n",
              "        text-align: right;\n",
              "    }\n",
              "</style>\n",
              "<table border=\"1\" class=\"dataframe\">\n",
              "  <thead>\n",
              "    <tr style=\"text-align: right;\">\n",
              "      <th></th>\n",
              "      <th>Date</th>\n",
              "      <th>Open</th>\n",
              "      <th>High</th>\n",
              "      <th>Low</th>\n",
              "      <th>Close</th>\n",
              "      <th>Adj Close</th>\n",
              "      <th>Volume</th>\n",
              "    </tr>\n",
              "  </thead>\n",
              "  <tbody>\n",
              "    <tr>\n",
              "      <th>0</th>\n",
              "      <td>2018-09-10</td>\n",
              "      <td>220.949997</td>\n",
              "      <td>221.850006</td>\n",
              "      <td>216.470001</td>\n",
              "      <td>218.330002</td>\n",
              "      <td>214.993759</td>\n",
              "      <td>39516500</td>\n",
              "    </tr>\n",
              "    <tr>\n",
              "      <th>1</th>\n",
              "      <td>2018-09-11</td>\n",
              "      <td>218.009995</td>\n",
              "      <td>224.300003</td>\n",
              "      <td>216.559998</td>\n",
              "      <td>223.850006</td>\n",
              "      <td>220.429443</td>\n",
              "      <td>35749000</td>\n",
              "    </tr>\n",
              "    <tr>\n",
              "      <th>2</th>\n",
              "      <td>2018-09-12</td>\n",
              "      <td>224.940002</td>\n",
              "      <td>225.000000</td>\n",
              "      <td>219.839996</td>\n",
              "      <td>221.070007</td>\n",
              "      <td>217.691925</td>\n",
              "      <td>49278700</td>\n",
              "    </tr>\n",
              "    <tr>\n",
              "      <th>3</th>\n",
              "      <td>2018-09-13</td>\n",
              "      <td>223.520004</td>\n",
              "      <td>228.350006</td>\n",
              "      <td>222.570007</td>\n",
              "      <td>226.410004</td>\n",
              "      <td>222.950317</td>\n",
              "      <td>41706400</td>\n",
              "    </tr>\n",
              "    <tr>\n",
              "      <th>4</th>\n",
              "      <td>2018-09-14</td>\n",
              "      <td>225.750000</td>\n",
              "      <td>226.839996</td>\n",
              "      <td>222.520004</td>\n",
              "      <td>223.839996</td>\n",
              "      <td>220.419571</td>\n",
              "      <td>31999300</td>\n",
              "    </tr>\n",
              "  </tbody>\n",
              "</table>\n",
              "</div>"
            ],
            "text/plain": [
              "         Date        Open        High  ...       Close   Adj Close    Volume\n",
              "0  2018-09-10  220.949997  221.850006  ...  218.330002  214.993759  39516500\n",
              "1  2018-09-11  218.009995  224.300003  ...  223.850006  220.429443  35749000\n",
              "2  2018-09-12  224.940002  225.000000  ...  221.070007  217.691925  49278700\n",
              "3  2018-09-13  223.520004  228.350006  ...  226.410004  222.950317  41706400\n",
              "4  2018-09-14  225.750000  226.839996  ...  223.839996  220.419571  31999300\n",
              "\n",
              "[5 rows x 7 columns]"
            ]
          },
          "metadata": {
            "tags": []
          },
          "execution_count": 3
        }
      ]
    },
    {
      "cell_type": "code",
      "metadata": {
        "id": "S3JgzQgTL1rk",
        "colab_type": "code",
        "outputId": "0dcbc123-4df1-4baf-dd35-c1a0a9d2ff0f",
        "colab": {
          "base_uri": "https://localhost:8080/",
          "height": 158
        }
      },
      "source": [
        "stock_data.isnull().sum()"
      ],
      "execution_count": 0,
      "outputs": [
        {
          "output_type": "execute_result",
          "data": {
            "text/plain": [
              "Date         0\n",
              "Open         0\n",
              "High         0\n",
              "Low          0\n",
              "Close        0\n",
              "Adj Close    0\n",
              "Volume       0\n",
              "dtype: int64"
            ]
          },
          "metadata": {
            "tags": []
          },
          "execution_count": 4
        }
      ]
    },
    {
      "cell_type": "code",
      "metadata": {
        "id": "Fa7VaeeEVmFN",
        "colab_type": "code",
        "outputId": "e53bd1a8-0465-429b-e655-f0df027541d5",
        "colab": {
          "base_uri": "https://localhost:8080/",
          "height": 227
        }
      },
      "source": [
        "\n",
        "stock_data.set_index('Date', inplace=True)\n",
        "stock_data.head()"
      ],
      "execution_count": 0,
      "outputs": [
        {
          "output_type": "execute_result",
          "data": {
            "text/html": [
              "<div>\n",
              "<style scoped>\n",
              "    .dataframe tbody tr th:only-of-type {\n",
              "        vertical-align: middle;\n",
              "    }\n",
              "\n",
              "    .dataframe tbody tr th {\n",
              "        vertical-align: top;\n",
              "    }\n",
              "\n",
              "    .dataframe thead th {\n",
              "        text-align: right;\n",
              "    }\n",
              "</style>\n",
              "<table border=\"1\" class=\"dataframe\">\n",
              "  <thead>\n",
              "    <tr style=\"text-align: right;\">\n",
              "      <th></th>\n",
              "      <th>Open</th>\n",
              "      <th>High</th>\n",
              "      <th>Low</th>\n",
              "      <th>Close</th>\n",
              "      <th>Adj Close</th>\n",
              "      <th>Volume</th>\n",
              "    </tr>\n",
              "    <tr>\n",
              "      <th>Date</th>\n",
              "      <th></th>\n",
              "      <th></th>\n",
              "      <th></th>\n",
              "      <th></th>\n",
              "      <th></th>\n",
              "      <th></th>\n",
              "    </tr>\n",
              "  </thead>\n",
              "  <tbody>\n",
              "    <tr>\n",
              "      <th>2018-09-10</th>\n",
              "      <td>220.949997</td>\n",
              "      <td>221.850006</td>\n",
              "      <td>216.470001</td>\n",
              "      <td>218.330002</td>\n",
              "      <td>214.993759</td>\n",
              "      <td>39516500</td>\n",
              "    </tr>\n",
              "    <tr>\n",
              "      <th>2018-09-11</th>\n",
              "      <td>218.009995</td>\n",
              "      <td>224.300003</td>\n",
              "      <td>216.559998</td>\n",
              "      <td>223.850006</td>\n",
              "      <td>220.429443</td>\n",
              "      <td>35749000</td>\n",
              "    </tr>\n",
              "    <tr>\n",
              "      <th>2018-09-12</th>\n",
              "      <td>224.940002</td>\n",
              "      <td>225.000000</td>\n",
              "      <td>219.839996</td>\n",
              "      <td>221.070007</td>\n",
              "      <td>217.691925</td>\n",
              "      <td>49278700</td>\n",
              "    </tr>\n",
              "    <tr>\n",
              "      <th>2018-09-13</th>\n",
              "      <td>223.520004</td>\n",
              "      <td>228.350006</td>\n",
              "      <td>222.570007</td>\n",
              "      <td>226.410004</td>\n",
              "      <td>222.950317</td>\n",
              "      <td>41706400</td>\n",
              "    </tr>\n",
              "    <tr>\n",
              "      <th>2018-09-14</th>\n",
              "      <td>225.750000</td>\n",
              "      <td>226.839996</td>\n",
              "      <td>222.520004</td>\n",
              "      <td>223.839996</td>\n",
              "      <td>220.419571</td>\n",
              "      <td>31999300</td>\n",
              "    </tr>\n",
              "  </tbody>\n",
              "</table>\n",
              "</div>"
            ],
            "text/plain": [
              "                  Open        High  ...   Adj Close    Volume\n",
              "Date                                ...                      \n",
              "2018-09-10  220.949997  221.850006  ...  214.993759  39516500\n",
              "2018-09-11  218.009995  224.300003  ...  220.429443  35749000\n",
              "2018-09-12  224.940002  225.000000  ...  217.691925  49278700\n",
              "2018-09-13  223.520004  228.350006  ...  222.950317  41706400\n",
              "2018-09-14  225.750000  226.839996  ...  220.419571  31999300\n",
              "\n",
              "[5 rows x 6 columns]"
            ]
          },
          "metadata": {
            "tags": []
          },
          "execution_count": 5
        }
      ]
    },
    {
      "cell_type": "code",
      "metadata": {
        "id": "RcJFCNlyL9bz",
        "colab_type": "code",
        "outputId": "6f88cd4c-8359-4908-b9b0-8c9c3125c604",
        "colab": {
          "base_uri": "https://localhost:8080/",
          "height": 312
        }
      },
      "source": [
        "stock_data['Adj Close'].plot(label='MSI', figsize=(16,4), title='Adjusted Closing Price', grid=True)"
      ],
      "execution_count": 0,
      "outputs": [
        {
          "output_type": "execute_result",
          "data": {
            "text/plain": [
              "<matplotlib.axes._subplots.AxesSubplot at 0x7f361bea4438>"
            ]
          },
          "metadata": {
            "tags": []
          },
          "execution_count": 6
        },
        {
          "output_type": "display_data",
          "data": {
            "image/png": "[encoded data removed]",
            "text/plain": [
              "<Figure size 1152x288 with 1 Axes>"
            ]
          },
          "metadata": {
            "tags": []
          }
        }
      ]
    },
    {
      "cell_type": "code",
      "metadata": {
        "id": "_ENtYe-CRrqa",
        "colab_type": "code",
        "colab": {}
      },
      "source": [
        "window_size = 32 # Allow us to look at 32 days into the past\n",
        "# Prepare the data so that we have 32 day windows and predict what the next day should be\n",
        "\n",
        "# Get indices of access for the data\n",
        "num_samples = len(stock_data) - window_size\n",
        "indices = np.arange(num_samples).astype(np.int)[:,None] + np.arange(window_size + 1).astype(np.int)"
      ],
      "execution_count": 0,
      "outputs": []
    },
    {
      "cell_type": "code",
      "metadata": {
        "id": "RvpfF8m-SJGs",
        "colab_type": "code",
        "colab": {}
      },
      "source": [
        "data = stock_data['Adj Close'].values[indices] # Create the 2D matrix of training samples"
      ],
      "execution_count": 0,
      "outputs": []
    },
    {
      "cell_type": "code",
      "metadata": {
        "id": "ege66E_ASOSL",
        "colab_type": "code",
        "colab": {}
      },
      "source": [
        "X = data[:,:-1] # Each row represents 32 days in the past\n",
        "y = data[:,-1] # Each output value represents the 33rd day"
      ],
      "execution_count": 0,
      "outputs": []
    },
    {
      "cell_type": "code",
      "metadata": {
        "id": "6nlyDYf2SaJz",
        "colab_type": "code",
        "colab": {}
      },
      "source": [
        "# Train and test split\n",
        "split_fraction = 0.8\n",
        "ind_split = int(split_fraction * num_samples)\n",
        "X_train = X[:ind_split]\n",
        "y_train = y[:ind_split]\n",
        "X_test = X[ind_split:]\n",
        "y_test = y[ind_split:]"
      ],
      "execution_count": 0,
      "outputs": []
    },
    {
      "cell_type": "code",
      "metadata": {
        "id": "1ClhUlD2tjqn",
        "colab_type": "code",
        "colab": {}
      },
      "source": [
        "#Help Functions\n",
        "def get_performance (model_pred):\n",
        "  #Function returns standard performance metrics\n",
        "  print('Mean Absolute Error:', metrics.mean_absolute_error(y_test, model_pred).round(4))  \n",
        "  print('Mean Squared Error:', metrics.mean_squared_error(y_test, model_pred).round(4)) \n",
        "  print('r2_score:', metrics.r2_score(y_test, model_pred).round(4)) \n",
        "  print('Root Mean Squared Error:', np.sqrt(metrics.mean_squared_error(y_test, model_pred)).round(4))\n",
        "  \n",
        "  \n",
        "  \n",
        "def get_plot (model_pred):\n",
        "  plt.scatter(model_pred, y_test, color=\"gray\")\n",
        "  plt.plot(y_test, y_test, color='red', linewidth=2)"
      ],
      "execution_count": 0,
      "outputs": []
    },
    {
      "cell_type": "code",
      "metadata": {
        "id": "n2LL9uV2pQ7o",
        "colab_type": "code",
        "colab": {}
      },
      "source": [
        "reg = linear_model.LinearRegression()\n",
        "reg.fit(X_train, y_train)\n",
        "lr_pred = reg.predict(X_test)"
      ],
      "execution_count": 0,
      "outputs": []
    },
    {
      "cell_type": "code",
      "metadata": {
        "id": "YBDJqrf5p3cG",
        "colab_type": "code",
        "outputId": "7fe4e6a4-3769-4646-cd5c-70d5bd2eb6a3",
        "colab": {
          "base_uri": "https://localhost:8080/",
          "height": 70
        }
      },
      "source": [
        "get_performance(lr_pred)"
      ],
      "execution_count": 0,
      "outputs": [
        {
          "output_type": "stream",
          "text": [
            "Mean Absolute Error: 3.1314\n",
            "Mean Squared Error: 15.8461\n",
            "Root Mean Squared Error: 3.9807\n"
          ],
          "name": "stdout"
        }
      ]
    },
    {
      "cell_type": "code",
      "metadata": {
        "id": "6zt0S0uvqHVl",
        "colab_type": "code",
        "outputId": "58d7bf3a-2119-4dad-ed56-133ad7db56e6",
        "colab": {
          "base_uri": "https://localhost:8080/",
          "height": 268
        }
      },
      "source": [
        "get_plot(lr_pred)"
      ],
      "execution_count": 0,
      "outputs": [
        {
          "output_type": "display_data",
          "data": {
            "image/png": "[encoded data removed]",
            "text/plain": [
              "<Figure size 432x288 with 1 Axes>"
            ]
          },
          "metadata": {
            "tags": []
          }
        }
      ]
    },
    {
      "cell_type": "markdown",
      "metadata": {
        "id": "HaBjidoNsQxL",
        "colab_type": "text"
      },
      "source": [
        "#Method 1: Ridge Regression"
      ]
    },
    {
      "cell_type": "code",
      "metadata": {
        "id": "NHsKLxRJSbyW",
        "colab_type": "code",
        "colab": {}
      },
      "source": [
        "# Train\n",
        "ridge_model = Ridge()\n",
        "ridge_model.fit(X_train, y_train)\n",
        "\n",
        "# Infer\n",
        "# y_pred_train_ridge = ridge_model.predict(X_train)\n",
        "y_pred_ridge = ridge_model.predict(X_test)"
      ],
      "execution_count": 0,
      "outputs": []
    },
    {
      "cell_type": "code",
      "metadata": {
        "id": "3aW8EgK4sXih",
        "colab_type": "code",
        "outputId": "b6b105dc-558d-4b9d-9879-bfd8ed42ef48",
        "colab": {
          "base_uri": "https://localhost:8080/",
          "height": 70
        }
      },
      "source": [
        "get_performance(y_pred_ridge)"
      ],
      "execution_count": 0,
      "outputs": [
        {
          "output_type": "stream",
          "text": [
            "Mean Absolute Error: 3.1307\n",
            "Mean Squared Error: 15.842\n",
            "Root Mean Squared Error: 3.9802\n"
          ],
          "name": "stdout"
        }
      ]
    },
    {
      "cell_type": "code",
      "metadata": {
        "id": "2k3rZSoFumZR",
        "colab_type": "code",
        "outputId": "6457d403-4d65-4215-8f6d-30b223e3aa7c",
        "colab": {
          "base_uri": "https://localhost:8080/",
          "height": 268
        }
      },
      "source": [
        "\n",
        "get_plot(y_pred_ridge)"
      ],
      "execution_count": 0,
      "outputs": [
        {
          "output_type": "display_data",
          "data": {
            "image/png": "[encoded data removed]",
            "text/plain": [
              "<Figure size 432x288 with 1 Axes>"
            ]
          },
          "metadata": {
            "tags": []
          }
        }
      ]
    },
    {
      "cell_type": "code",
      "metadata": {
        "id": "9qDHcNq7S5xs",
        "colab_type": "code",
        "colab": {}
      },
      "source": [
        "\n",
        "# Same for the test\n",
        "df_ridge = stock_data.copy()\n",
        "df_ridge.drop(['Open', 'High', 'Low', 'Close', 'Volume'], axis=1, inplace=True)\n",
        "df_ridge = df_ridge.iloc[ind_split+window_size:]\n",
        "df_ridge['Adj Close Test'] = y_pred_ridge\n",
        "df_ridge.plot(label='MSI', figsize=(16,4), title='Adjusted Closing Price', grid=True)"
      ],
      "execution_count": 0,
      "outputs": []
    },
    {
      "cell_type": "markdown",
      "metadata": {
        "id": "wgUd4ln8TIvy",
        "colab_type": "text"
      },
      "source": [
        "#Method 2: Lasso\n"
      ]
    },
    {
      "cell_type": "code",
      "metadata": {
        "id": "FkwNL6gWTGVO",
        "colab_type": "code",
        "colab": {}
      },
      "source": [
        "# Train\n",
        "lasso_model = linear_model.Lasso(alpha=0.1)\n",
        "lasso_model.fit(X_train, y_train)\n",
        "\n",
        "# Infer\n",
        "# y_pred_train_lasso = lasso_model.predict(X_train)\n",
        "y_pred_lasso = lasso_model.predict(X_test)"
      ],
      "execution_count": 0,
      "outputs": []
    },
    {
      "cell_type": "code",
      "metadata": {
        "id": "waad7FZSvGKu",
        "colab_type": "code",
        "outputId": "0ea532c3-9660-494f-b557-67f5b6fafa91",
        "colab": {
          "base_uri": "https://localhost:8080/",
          "height": 70
        }
      },
      "source": [
        "get_performance(y_pred_lasso)"
      ],
      "execution_count": 0,
      "outputs": [
        {
          "output_type": "stream",
          "text": [
            "Mean Absolute Error: 3.0814\n",
            "Mean Squared Error: 15.4624\n",
            "Root Mean Squared Error: 3.9322\n"
          ],
          "name": "stdout"
        }
      ]
    },
    {
      "cell_type": "code",
      "metadata": {
        "id": "HBz0nJXzvMJ8",
        "colab_type": "code",
        "outputId": "ba022976-68f8-45b7-998c-5fcdc2156c66",
        "colab": {
          "base_uri": "https://localhost:8080/",
          "height": 268
        }
      },
      "source": [
        "get_plot(y_pred_lasso)"
      ],
      "execution_count": 0,
      "outputs": [
        {
          "output_type": "display_data",
          "data": {
            "image/png": "[encoded data removed]",
            "text/plain": [
              "<Figure size 432x288 with 1 Axes>"
            ]
          },
          "metadata": {
            "tags": []
          }
        }
      ]
    },
    {
      "cell_type": "markdown",
      "metadata": {
        "id": "5stL0d7bn7Lk",
        "colab_type": "text"
      },
      "source": [
        "#Method 3: Bayesian Ridge"
      ]
    },
    {
      "cell_type": "code",
      "metadata": {
        "id": "1Y7fFhaAoAQR",
        "colab_type": "code",
        "colab": {}
      },
      "source": [
        "bayes_model = linear_model.BayesianRidge()\n",
        "bayes_model.fit(X_train, y_train)\n",
        "y_pred_bayes = bayes_model.predict(X_test)"
      ],
      "execution_count": 0,
      "outputs": []
    },
    {
      "cell_type": "code",
      "metadata": {
        "id": "dOhg5OS_oi68",
        "colab_type": "code",
        "outputId": "e7fe9981-c7ab-4810-e0c8-ab32719c0634",
        "colab": {
          "base_uri": "https://localhost:8080/",
          "height": 70
        }
      },
      "source": [
        "get_performance(y_pred_bayes)"
      ],
      "execution_count": 0,
      "outputs": [
        {
          "output_type": "stream",
          "text": [
            "Mean Absolute Error: 2.99\n",
            "Mean Squared Error: 15.4134\n",
            "Root Mean Squared Error: 3.926\n"
          ],
          "name": "stdout"
        }
      ]
    },
    {
      "cell_type": "code",
      "metadata": {
        "id": "5DFGEj54ovex",
        "colab_type": "code",
        "outputId": "dc1439af-6e56-440c-d4c4-c73dd8e6c96b",
        "colab": {
          "base_uri": "https://localhost:8080/",
          "height": 268
        }
      },
      "source": [
        "get_plot(y_pred_bayes)"
      ],
      "execution_count": 0,
      "outputs": [
        {
          "output_type": "display_data",
          "data": {
            "image/png": "[encoded data removed]",
            "text/plain": [
              "<Figure size 432x288 with 1 Axes>"
            ]
          },
          "metadata": {
            "tags": []
          }
        }
      ]
    }
  ]
}